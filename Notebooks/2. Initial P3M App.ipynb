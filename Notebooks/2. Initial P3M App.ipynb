{
 "cells": [
  {
   "cell_type": "markdown",
   "source": [
    "### Imports\n"
   ],
   "metadata": {
    "collapsed": false
   }
  },
  {
   "cell_type": "code",
   "execution_count": 4,
   "outputs": [],
   "source": [
    "import os\n",
    "import openai\n",
    "import tiktoken\n",
    "import wandb\n",
    "from pprint import pprint\n",
    "from getpass import getpass\n",
    "from wandb.integration.openai import autolog\n",
    "\n",
    "from pathlib import Path\n",
    "from pprint import pprint\n",
    "\n",
    "from rich.markdown import Markdown\n",
    "import pandas as pd\n",
    "from tenacity import (\n",
    "    retry,\n",
    "    stop_after_attempt,\n",
    "    wait_random_exponential, # for exponential backoff\n",
    ")"
   ],
   "metadata": {
    "collapsed": false,
    "ExecuteTime": {
     "start_time": "2023-08-10T14:41:53.279203Z",
     "end_time": "2023-08-10T14:41:54.057162Z"
    }
   }
  },
  {
   "cell_type": "code",
   "execution_count": 5,
   "outputs": [],
   "source": [
    "openai.api_key = os.getenv(\"OPENAI_API_KEY\", \"\")"
   ],
   "metadata": {
    "collapsed": false,
    "ExecuteTime": {
     "start_time": "2023-08-10T14:41:54.645882Z",
     "end_time": "2023-08-10T14:41:54.651847Z"
    }
   }
  },
  {
   "cell_type": "code",
   "execution_count": 5,
   "outputs": [],
   "source": [],
   "metadata": {
    "collapsed": false,
    "ExecuteTime": {
     "start_time": "2023-08-10T14:41:55.640659Z",
     "end_time": "2023-08-10T14:41:55.644528Z"
    }
   }
  },
  {
   "cell_type": "code",
   "execution_count": 6,
   "outputs": [],
   "source": [
    "# we need a single line of code to start tracing langchain with W&B\n",
    "os.environ[\"LANGCHAIN_WANDB_TRACING\"] = \"true\"\n",
    "\n",
    "# wandb documentation to configure wandb using env variables\n",
    "# https://docs.wandb.ai/guides/track/advanced/environment-variables\n",
    "# here we are configuring the wandb project name\n",
    "os.environ[\"WANDB_PROJECT\"] = \"p3m_app\""
   ],
   "metadata": {
    "collapsed": false,
    "ExecuteTime": {
     "start_time": "2023-08-10T14:41:56.123610Z",
     "end_time": "2023-08-10T14:41:56.129054Z"
    }
   }
  },
  {
   "cell_type": "code",
   "execution_count": 7,
   "outputs": [],
   "source": [
    "assert os.getenv(\"WANDB_PROJECT\", \"\") == \"p3m_app\", \"This doesn't look like a valid W&B project\""
   ],
   "metadata": {
    "collapsed": false,
    "ExecuteTime": {
     "start_time": "2023-08-10T14:41:58.349057Z",
     "end_time": "2023-08-10T14:41:58.352635Z"
    }
   }
  },
  {
   "cell_type": "code",
   "execution_count": 8,
   "outputs": [],
   "source": [
    "MODEL_NAME = \"text-davinci-003\""
   ],
   "metadata": {
    "collapsed": false,
    "ExecuteTime": {
     "start_time": "2023-08-10T14:41:59.035522Z",
     "end_time": "2023-08-10T14:41:59.040315Z"
    }
   }
  },
  {
   "cell_type": "code",
   "execution_count": 9,
   "outputs": [],
   "source": [
    "# # load in pdf document using langchain\n",
    "# import langchain\n",
    "# lc = langchain()\n",
    "# lc.add_pdf(\"Data/guide-to-se-and-p3m-processes.pdf\")"
   ],
   "metadata": {
    "collapsed": false,
    "ExecuteTime": {
     "start_time": "2023-08-10T14:41:59.706799Z",
     "end_time": "2023-08-10T14:41:59.711723Z"
    }
   }
  },
  {
   "cell_type": "code",
   "execution_count": 10,
   "outputs": [],
   "source": [
    "from langchain.document_loaders import PyPDFLoader"
   ],
   "metadata": {
    "collapsed": false,
    "ExecuteTime": {
     "start_time": "2023-08-10T14:42:01.273303Z",
     "end_time": "2023-08-10T14:42:03.461345Z"
    }
   }
  },
  {
   "cell_type": "code",
   "execution_count": 11,
   "outputs": [],
   "source": [
    "loader = PyPDFLoader(\"../Data/guide-to-se-and-p3m-processes.pdf\")"
   ],
   "metadata": {
    "collapsed": false,
    "ExecuteTime": {
     "start_time": "2023-08-10T14:42:03.464166Z",
     "end_time": "2023-08-10T14:42:03.541415Z"
    }
   }
  },
  {
   "cell_type": "code",
   "execution_count": 13,
   "outputs": [
    {
     "data": {
      "text/plain": "<langchain.document_loaders.pdf.PyPDFLoader at 0x7fa39f77f310>"
     },
     "execution_count": 13,
     "metadata": {},
     "output_type": "execute_result"
    }
   ],
   "source": [
    "# loader"
   ],
   "metadata": {
    "collapsed": false,
    "ExecuteTime": {
     "start_time": "2023-08-08T16:41:00.187475Z",
     "end_time": "2023-08-08T16:41:00.203430Z"
    }
   }
  },
  {
   "cell_type": "code",
   "execution_count": 12,
   "outputs": [],
   "source": [
    "pages = loader.load_and_split()"
   ],
   "metadata": {
    "collapsed": false,
    "ExecuteTime": {
     "start_time": "2023-08-10T14:42:08.291468Z",
     "end_time": "2023-08-10T14:42:09.766068Z"
    }
   }
  },
  {
   "cell_type": "code",
   "execution_count": 23,
   "outputs": [
    {
     "data": {
      "text/plain": "list"
     },
     "execution_count": 23,
     "metadata": {},
     "output_type": "execute_result"
    }
   ],
   "source": [
    "# type(pages)"
   ],
   "metadata": {
    "collapsed": false,
    "ExecuteTime": {
     "start_time": "2023-08-09T09:21:21.570948Z",
     "end_time": "2023-08-09T09:21:21.591432Z"
    }
   }
  },
  {
   "cell_type": "code",
   "execution_count": null,
   "outputs": [],
   "source": [],
   "metadata": {
    "collapsed": false
   }
  },
  {
   "cell_type": "code",
   "execution_count": 13,
   "outputs": [],
   "source": [
    "# We will need to count tokens in the documents, and for that we need the tokenizer\n",
    "tokenizer = tiktoken.encoding_for_model(MODEL_NAME)"
   ],
   "metadata": {
    "collapsed": false,
    "ExecuteTime": {
     "start_time": "2023-08-10T14:42:12.342506Z",
     "end_time": "2023-08-10T14:42:16.771623Z"
    }
   }
  },
  {
   "cell_type": "code",
   "execution_count": 14,
   "outputs": [],
   "source": [
    "# tokenizer"
   ],
   "metadata": {
    "collapsed": false,
    "ExecuteTime": {
     "start_time": "2023-08-10T14:42:16.765533Z",
     "end_time": "2023-08-10T14:42:16.772265Z"
    }
   }
  },
  {
   "cell_type": "code",
   "execution_count": 20,
   "outputs": [],
   "source": [
    "# function to count the number of tokens in each document\n",
    "def count_tokens(documents):\n",
    "    token_counts = [len(tokenizer.encode(document.page_content)) for document in documents]\n",
    "    return token_counts"
   ],
   "metadata": {
    "collapsed": false,
    "ExecuteTime": {
     "start_time": "2023-08-08T16:42:29.169825Z",
     "end_time": "2023-08-08T16:42:29.175437Z"
    }
   }
  },
  {
   "cell_type": "code",
   "execution_count": 22,
   "outputs": [
    {
     "data": {
      "text/plain": "[727,\n 484,\n 541,\n 497,\n 718,\n 654,\n 525,\n 375,\n 181,\n 500,\n 425,\n 466,\n 421,\n 390,\n 536,\n 521,\n 56,\n 639,\n 235,\n 1039,\n 559,\n 371,\n 219,\n 389,\n 783,\n 822,\n 63,\n 818,\n 114,\n 555,\n 843,\n 592]"
     },
     "execution_count": 22,
     "metadata": {},
     "output_type": "execute_result"
    }
   ],
   "source": [
    "count_tokens(pages)"
   ],
   "metadata": {
    "collapsed": false,
    "ExecuteTime": {
     "start_time": "2023-08-08T16:42:43.159006Z",
     "end_time": "2023-08-08T16:42:43.193677Z"
    }
   }
  },
  {
   "cell_type": "markdown",
   "source": [
    "### Notes\n",
    "* what is the maximum number of tokens that can be inputted to the model?\n",
    "* what is going on here (above)? how did we split the pdf into pages? how will this then be passed to the model?\n",
    "* how do you inspect your output when doc splitting? (add to design pattern as an unknown)\n",
    "* interested to know how `pages = loader.load_and_split()` works"
   ],
   "metadata": {
    "collapsed": false
   }
  },
  {
   "cell_type": "code",
   "execution_count": 31,
   "outputs": [],
   "source": [
    "# pages[0].page_content\n"
   ],
   "metadata": {
    "collapsed": false,
    "ExecuteTime": {
     "start_time": "2023-08-09T09:41:33.021048Z",
     "end_time": "2023-08-09T09:41:33.033809Z"
    }
   }
  },
  {
   "cell_type": "code",
   "execution_count": 32,
   "outputs": [
    {
     "data": {
      "text/plain": "Guide to SE and P3M Processes :  Issue  1.0 Page  ii                                                               \n\nContents                                                                                                           \n\n\u001B[1;33m 1 \u001B[0mIntroduction  1 Purpose and Scope  1 Document Structure  2 Terminology  3 Acknowledgements and references  3    \n\u001B[1;33m 2 \u001B[0mDefinition of a process  4 Reference definitions  4                                                             \n\u001B[1;33m 3 \u001B[0mSE process frameworks  5 ISO1 5288:2015  5 INCOSE Systems Engineering Handbook  5                               \n\u001B[1;33m 4 \u001B[0mP3M process frameworks  6 APM Body of Knowledge  6 PMI® PMB OK® 7 PMI® Standard for Program Management  8 ISO   \n\u001B[1;33m   \u001B[0mStandards  8 Axelos Global Best Practice suite  9                                                               \n\u001B[1;33m 5 \u001B[0mA comparison of SE and P3M processes  12 The ISO comparison for systems engineering and project management  12  \n\u001B[1;33m   \u001B[0mTouchpoints and overlaps in programme and portfolio activities  12 An integrated suite of process products  13 A\n\u001B[1;33m   \u001B[0mtaxonomy for the r ange of interactions  14 An example of gaps, touchpoints, overlaps and fusions  17           \n\u001B[1;33m 6 \u001B[0mExamples of SE and P3M process fusion  20 Complementary processes or frameworks  20 Governance  21 Product based\n\u001B[1;33m   \u001B[0mplanning  21 A programme as a system of systems  21 Portfolio and programme architectural modelling  22         \n\u001B[1;33m   \u001B[0mVerification and validation in benefits management  22 Agile requirements satisfaction: Clear thinking in the a \n\u001B[1;33m   \u001B[0mgile environment  22 Interdependency management  23 Soft systems methodologies in stakeholder management  23    \n\u001B[1;33m   \u001B[0mIntegrated supply chain management  23 Requirements definition in contracts  23 Transition definition and       \n\u001B[1;33m   \u001B[0mmanagement  23                                                                                                  \n\u001B[1;33m 7 \u001B[0mAreas of process friction or tensions  25 Change is not straightforward - tensions exist  25 Is it too much     \n\u001B[1;33m   \u001B[0mbureaucracy or robust governance?  25 When does defining a solution rigorously become gold plating ? 26 Do you  \n\u001B[1;33m   \u001B[0machieve technical maturity or meet the programme timescales?  26 Making and maintaining a justifiable business  \n\u001B[1;33m   \u001B[0mcase  26 The four horsemen: Ignorance, perception, interpretation and misapplication  27 Styles and behaviours  \n\u001B[1;33m   \u001B[0m27                                                                                                              \n",
      "text/html": "<pre style=\"white-space:pre;overflow-x:auto;line-height:normal;font-family:Menlo,'DejaVu Sans Mono',consolas,'Courier New',monospace\">Guide to SE and P3M Processes :  Issue  1.0 Page  ii                                                               \n\nContents                                                                                                           \n\n<span style=\"color: #808000; text-decoration-color: #808000; font-weight: bold\"> 1 </span>Introduction  1 Purpose and Scope  1 Document Structure  2 Terminology  3 Acknowledgements and references  3    \n<span style=\"color: #808000; text-decoration-color: #808000; font-weight: bold\"> 2 </span>Definition of a process  4 Reference definitions  4                                                             \n<span style=\"color: #808000; text-decoration-color: #808000; font-weight: bold\"> 3 </span>SE process frameworks  5 ISO1 5288:2015  5 INCOSE Systems Engineering Handbook  5                               \n<span style=\"color: #808000; text-decoration-color: #808000; font-weight: bold\"> 4 </span>P3M process frameworks  6 APM Body of Knowledge  6 PMI® PMB OK® 7 PMI® Standard for Program Management  8 ISO   \n<span style=\"color: #808000; text-decoration-color: #808000; font-weight: bold\">   </span>Standards  8 Axelos Global Best Practice suite  9                                                               \n<span style=\"color: #808000; text-decoration-color: #808000; font-weight: bold\"> 5 </span>A comparison of SE and P3M processes  12 The ISO comparison for systems engineering and project management  12  \n<span style=\"color: #808000; text-decoration-color: #808000; font-weight: bold\">   </span>Touchpoints and overlaps in programme and portfolio activities  12 An integrated suite of process products  13 A\n<span style=\"color: #808000; text-decoration-color: #808000; font-weight: bold\">   </span>taxonomy for the r ange of interactions  14 An example of gaps, touchpoints, overlaps and fusions  17           \n<span style=\"color: #808000; text-decoration-color: #808000; font-weight: bold\"> 6 </span>Examples of SE and P3M process fusion  20 Complementary processes or frameworks  20 Governance  21 Product based\n<span style=\"color: #808000; text-decoration-color: #808000; font-weight: bold\">   </span>planning  21 A programme as a system of systems  21 Portfolio and programme architectural modelling  22         \n<span style=\"color: #808000; text-decoration-color: #808000; font-weight: bold\">   </span>Verification and validation in benefits management  22 Agile requirements satisfaction: Clear thinking in the a \n<span style=\"color: #808000; text-decoration-color: #808000; font-weight: bold\">   </span>gile environment  22 Interdependency management  23 Soft systems methodologies in stakeholder management  23    \n<span style=\"color: #808000; text-decoration-color: #808000; font-weight: bold\">   </span>Integrated supply chain management  23 Requirements definition in contracts  23 Transition definition and       \n<span style=\"color: #808000; text-decoration-color: #808000; font-weight: bold\">   </span>management  23                                                                                                  \n<span style=\"color: #808000; text-decoration-color: #808000; font-weight: bold\"> 7 </span>Areas of process friction or tensions  25 Change is not straightforward - tensions exist  25 Is it too much     \n<span style=\"color: #808000; text-decoration-color: #808000; font-weight: bold\">   </span>bureaucracy or robust governance?  25 When does defining a solution rigorously become gold plating ? 26 Do you  \n<span style=\"color: #808000; text-decoration-color: #808000; font-weight: bold\">   </span>achieve technical maturity or meet the programme timescales?  26 Making and maintaining a justifiable business  \n<span style=\"color: #808000; text-decoration-color: #808000; font-weight: bold\">   </span>case  26 The four horsemen: Ignorance, perception, interpretation and misapplication  27 Styles and behaviours  \n<span style=\"color: #808000; text-decoration-color: #808000; font-weight: bold\">   </span>27                                                                                                              \n</pre>\n"
     },
     "execution_count": 32,
     "metadata": {},
     "output_type": "execute_result"
    }
   ],
   "source": [
    "Markdown(pages[1].page_content)"
   ],
   "metadata": {
    "collapsed": false,
    "ExecuteTime": {
     "start_time": "2023-08-09T09:42:24.910431Z",
     "end_time": "2023-08-09T09:42:24.929768Z"
    }
   }
  },
  {
   "cell_type": "markdown",
   "source": [
    "### Embeddings\n",
    "* this code use embeddings with a vector database retriever to find relevant documents for a query.\n",
    "* why vector dbs? why not just numpy?"
   ],
   "metadata": {
    "collapsed": false
   }
  },
  {
   "cell_type": "code",
   "execution_count": 15,
   "outputs": [],
   "source": [
    "from langchain.embeddings import OpenAIEmbeddings\n",
    "from langchain.vectorstores import Chroma\n",
    "\n",
    "# We will use the OpenAIEmbeddings to embed the text, and Chroma to store the vectors\n",
    "embeddings = OpenAIEmbeddings()\n",
    "db = Chroma.from_documents(pages, embeddings)"
   ],
   "metadata": {
    "collapsed": false,
    "ExecuteTime": {
     "start_time": "2023-08-10T14:42:30.058465Z",
     "end_time": "2023-08-10T14:42:39.865265Z"
    }
   }
  },
  {
   "cell_type": "markdown",
   "source": [
    "### Notes\n",
    "* look up what is going on with retrievers and db stores (add to design pattern as an unknown)\n",
    "* here is a question: what is stored in vector dbs: just the embeddings? or the tokens too?"
   ],
   "metadata": {
    "collapsed": false
   }
  },
  {
   "cell_type": "markdown",
   "source": [
    "We can create a retriever from the db now, we can pass the `k` param to get the most relevant sections from the similarity search"
   ],
   "metadata": {
    "collapsed": false
   }
  },
  {
   "cell_type": "code",
   "execution_count": 16,
   "outputs": [],
   "source": [
    "retriever = db.as_retriever(search_kwargs=dict(k=3))"
   ],
   "metadata": {
    "collapsed": false,
    "ExecuteTime": {
     "start_time": "2023-08-10T14:42:44.946646Z",
     "end_time": "2023-08-10T14:42:44.956907Z"
    }
   }
  },
  {
   "cell_type": "code",
   "execution_count": 38,
   "outputs": [
    {
     "data": {
      "text/plain": "VectorStoreRetriever(tags=['Chroma', 'OpenAIEmbeddings'], metadata=None, vectorstore=<langchain.vectorstores.chroma.Chroma object at 0x7fa3815ec9d0>, search_type='similarity', search_kwargs={'k': 3})"
     },
     "execution_count": 38,
     "metadata": {},
     "output_type": "execute_result"
    }
   ],
   "source": [
    "# retriever"
   ],
   "metadata": {
    "collapsed": false,
    "ExecuteTime": {
     "start_time": "2023-08-09T10:29:58.926646Z",
     "end_time": "2023-08-09T10:29:58.935229Z"
    }
   }
  },
  {
   "cell_type": "code",
   "execution_count": 50,
   "outputs": [],
   "source": [
    "query = \"What are the principles of P3M?\"\n",
    "docs = retriever.get_relevant_documents(query)"
   ],
   "metadata": {
    "collapsed": false,
    "ExecuteTime": {
     "start_time": "2023-08-09T11:02:29.059400Z",
     "end_time": "2023-08-09T11:02:29.907271Z"
    }
   }
  },
  {
   "cell_type": "code",
   "execution_count": 40,
   "outputs": [
    {
     "name": "stdout",
     "output_type": "stream",
     "text": [
      "../Data/guide-to-se-and-p3m-processes.pdf\n",
      "../Data/guide-to-se-and-p3m-processes.pdf\n",
      "../Data/guide-to-se-and-p3m-processes.pdf\n"
     ]
    }
   ],
   "source": [
    "# Let's see the results\n",
    "for doc in docs:\n",
    "    print(doc.metadata[\"source\"])"
   ],
   "metadata": {
    "collapsed": false,
    "ExecuteTime": {
     "start_time": "2023-08-09T10:30:50.057561Z",
     "end_time": "2023-08-09T10:30:50.092154Z"
    }
   }
  },
  {
   "cell_type": "markdown",
   "source": [
    "### Notes\n",
    "* look into this: i guess the docs go into the db as embeddings, but retain their link to the source doc? so its interesting to understand how th db works in this regard and what available metadata and normal data is available"
   ],
   "metadata": {
    "collapsed": false
   }
  },
  {
   "cell_type": "code",
   "execution_count": 51,
   "outputs": [
    {
     "name": "stdout",
     "output_type": "stream",
     "text": [
      "page_content='Guide to SE and P3M Processes :  Issue  1. Page  3 \\n \\nTerminology  \\nThe term P3 is used to denote Project, Programmes and Portfolios (as defined within the APM Body of \\nKnowledge), and P3M denotes Project, Programme and Portfolio Management.  Where the discussion only \\nrefers to Projects and Programmes, the term PPM will be used.  SE is used to denote Systems Engineering \\napproaches, models, processes and ways of thinking.  \\nAcknowledgements and r eferences  \\nUnless otherwise referenced, information is taken fr om the INCOSE System Engineering Handbook  (SEHBK) \\nv4 (201 5)3 or the APM Body of Knowledge  (PMBOK) 6th Edition (2012)4.  Key references will also include \\ninformation from the ISO S tandard ISO15288:20 15 Systems and software engineering – System life cycle \\nprocesses  and the ISO standard ( ISO21500:2012)  Guidance on Project Management .  Use has also been \\nmade of the information contained within the Guide to the SE Body of Knowledge  (currently at v1.3)5. \\nFigure 2 is defined using information from ISO15288:2015 ©ISO  \\nFigure 4 is defined using information from A Gui de to the Project Management Body of Knowledge 5th Ed., \\nPennsylvania: PMI®  \\nFigure 5 is defined using information from A Standard for Program Management 3rd Ed., Penn sylvania: PMI®  \\nFigure 7 is defined using information  from  Managing Successful Projects with  PRINCE2 , 2009  Ed., \\nLondon:TSO.  \\nFigure 8 is defined using information  from Mana ging Successful Programmes, 2011  Ed., London:TSO .   \\nFigure 9 is defined using information from Management of Portfolios, 2011 Ed., London:TSO.  \\nPRINCE2® , P3M3®, MoP® and MSP® are  Registered Trade Mark s of AXELOS Limited  \\nPMI® and PMBOK® are  Registered T rade Mark s of Project Management Institute Inc.  \\n \\n                                                           \\n3 INCOSE -TP-2003 -002-04-2015, available at   INCOSE. 2015. Sy stems Engineering Handbook: A Guide for System Life Cycle Processes \\nand Activities, version 4.0. Hoboken, NJ, USA: John Wiley and Sons, Inc, ISBN: 978 -1-118-99940 -0 \\n4 Available to download for APM members at \\nhttps://www.apm.org.uk/sites/default/files/APM%2 0Body%20of%20Knowledge%206th%20edition_secure.pdf .  Alternatively an \\nonline version is available for all at knowledge.apm.org.uk   \\n5 Guide to the System Engineering Body of Knowledge , v1.3, available at http://www.sebokwiki.org/' metadata={'page': 5, 'source': '../Data/guide-to-se-and-p3m-processes.pdf'}\n",
      "/n-------------------/n\n",
      "page_content='Guide to SE and P3M Processes :  Issue  1. Page  6 \\n \\n4. P3M process frameworks  \\nIn this chapter we identify various frameworks that describe or define processes used within Project, \\nProgramme and Portfolio Management.  \\nAPM Body of Knowledge  \\nThe APM Body of Knowledge (APMBOK)  is a framework and taxonomy for communicating and describing the \\nvarious elements that make up or support P3M.  It does not proscribe actual  processes for project, \\nprogramme and project management.  \\nIt does describes a list of activities  that fall into four main sections, each of which contains sub -sections that \\ngroup key related elements together, as shown in Figure 3. \\n \\nFigure 3: An overview of the elements within the APM Body of Knowledge' metadata={'page': 8, 'source': '../Data/guide-to-se-and-p3m-processes.pdf'}\n",
      "/n-------------------/n\n",
      "page_content='Guide to SE and P3M Processes :  Issue  1. Page  25 \\n \\ninstallation procedures and constraints.  It therefore fully supports the Realizing the Benefits process within \\nthe Managing Successful Programmes® framework, which also describes the transition to busine ss as usual \\noperations for a change programme.  By fusing the two disciplines,  a robust transition can be defined, \\nparticularly if the system of interest encompasses both the outputs/outcomes as well as the wider business \\nand operational environment.' metadata={'page': 27, 'source': '../Data/guide-to-se-and-p3m-processes.pdf'}\n",
      "/n-------------------/n\n"
     ]
    }
   ],
   "source": [
    "for doc in docs:\n",
    "    print(doc)\n",
    "    print('/n-------------------/n')"
   ],
   "metadata": {
    "collapsed": false,
    "ExecuteTime": {
     "start_time": "2023-08-09T11:02:42.472904Z",
     "end_time": "2023-08-09T11:02:42.485455Z"
    }
   }
  },
  {
   "cell_type": "code",
   "execution_count": 52,
   "outputs": [
    {
     "name": "stdout",
     "output_type": "stream",
     "text": [
      "{'page': 5, 'source': '../Data/guide-to-se-and-p3m-processes.pdf'}\n",
      "{'page': 8, 'source': '../Data/guide-to-se-and-p3m-processes.pdf'}\n",
      "{'page': 27, 'source': '../Data/guide-to-se-and-p3m-processes.pdf'}\n"
     ]
    }
   ],
   "source": [
    "for doc in docs:\n",
    "    print(doc.metadata)"
   ],
   "metadata": {
    "collapsed": false,
    "ExecuteTime": {
     "start_time": "2023-08-09T11:02:45.272666Z",
     "end_time": "2023-08-09T11:02:45.277883Z"
    }
   }
  },
  {
   "cell_type": "code",
   "execution_count": null,
   "outputs": [],
   "source": [],
   "metadata": {
    "collapsed": false
   }
  },
  {
   "cell_type": "code",
   "execution_count": null,
   "outputs": [],
   "source": [],
   "metadata": {
    "collapsed": false
   }
  },
  {
   "cell_type": "markdown",
   "source": [
    "## Stuff Prompt\n",
    "\n",
    "We'll now take the content of the retrieved documents, stuff them into prompt template along with the query, and pass into an LLM to obtain the answer."
   ],
   "metadata": {
    "collapsed": false
   }
  },
  {
   "cell_type": "code",
   "execution_count": 47,
   "outputs": [],
   "source": [
    "from langchain.prompts import PromptTemplate\n",
    "\n",
    "prompt_template = \"\"\"Use the following pieces of context to answer the question at the end.\n",
    "If you don't know the answer, just say that you don't know, don't try to make up an answer.\n",
    "\n",
    "{context}\n",
    "\n",
    "Question: {question}\n",
    "Helpful Answer:\"\"\"\n",
    "PROMPT = PromptTemplate(\n",
    "    template=prompt_template, input_variables=[\"context\", \"question\"]\n",
    ")\n",
    "\n",
    "context = \"\\n\\n\".join([doc.page_content for doc in docs])\n",
    "prompt = PROMPT.format(context=context, question=query)"
   ],
   "metadata": {
    "collapsed": false,
    "ExecuteTime": {
     "start_time": "2023-08-09T11:01:06.453209Z",
     "end_time": "2023-08-09T11:01:06.467889Z"
    }
   }
  },
  {
   "cell_type": "markdown",
   "source": [
    "Use langchain to call openai chat API with the question"
   ],
   "metadata": {
    "collapsed": false
   }
  },
  {
   "cell_type": "code",
   "execution_count": 53,
   "outputs": [
    {
     "data": {
      "text/plain": "The APM Body of Knowledge provides a framework and taxonomy for communicating and describing the various elements  \nthat make up or support P3M, but does not prescribe actual processes.                                              \n",
      "text/html": "<pre style=\"white-space:pre;overflow-x:auto;line-height:normal;font-family:Menlo,'DejaVu Sans Mono',consolas,'Courier New',monospace\">The APM Body of Knowledge provides a framework and taxonomy for communicating and describing the various elements  \nthat make up or support P3M, but does not prescribe actual processes.                                              \n</pre>\n"
     },
     "execution_count": 53,
     "metadata": {},
     "output_type": "execute_result"
    }
   ],
   "source": [
    "from langchain.llms import OpenAI\n",
    "\n",
    "llm = OpenAI()\n",
    "response = llm.predict(prompt)\n",
    "Markdown(response)"
   ],
   "metadata": {
    "collapsed": false,
    "ExecuteTime": {
     "start_time": "2023-08-09T11:03:03.021126Z",
     "end_time": "2023-08-09T11:03:04.538774Z"
    }
   }
  },
  {
   "cell_type": "markdown",
   "source": [
    "### Notes\n",
    "* How does the prompt generated here differ from the prompt generated using the chain"
   ],
   "metadata": {
    "collapsed": false
   }
  },
  {
   "cell_type": "code",
   "execution_count": 17,
   "outputs": [],
   "source": [
    "query = \"What are the principles of P3M?\""
   ],
   "metadata": {
    "collapsed": false,
    "ExecuteTime": {
     "start_time": "2023-08-10T14:43:21.766458Z",
     "end_time": "2023-08-10T14:43:21.779488Z"
    }
   }
  },
  {
   "cell_type": "code",
   "execution_count": 20,
   "outputs": [
    {
     "name": "stderr",
     "output_type": "stream",
     "text": [
      "\u001B[34m\u001B[1mwandb\u001B[0m: Streaming LangChain activity to W&B at https://wandb.ai/dan-h/p3m_app/runs/dd54lkro\n",
      "\u001B[34m\u001B[1mwandb\u001B[0m: `WandbTracer` is currently in beta.\n",
      "\u001B[34m\u001B[1mwandb\u001B[0m: Please report any issues to https://github.com/wandb/wandb/issues with the tag `langchain`.\n"
     ]
    },
    {
     "data": {
      "text/plain": "P3M stands for Project, Programme and Portfolio Management. The APM Body of Knowledge provides a framework and     \ntaxonomy for communicating and describing the various elements that make up or support P3M, but it does not        \nprescribe actual processes for project, programme and project management.                                          \n",
      "text/html": "<pre style=\"white-space:pre;overflow-x:auto;line-height:normal;font-family:Menlo,'DejaVu Sans Mono',consolas,'Courier New',monospace\">P3M stands for Project, Programme and Portfolio Management. The APM Body of Knowledge provides a framework and     \ntaxonomy for communicating and describing the various elements that make up or support P3M, but it does not        \nprescribe actual processes for project, programme and project management.                                          \n</pre>\n"
     },
     "execution_count": 20,
     "metadata": {},
     "output_type": "execute_result"
    }
   ],
   "source": [
    "from langchain.chains import RetrievalQA\n",
    "from langchain.llms import OpenAI\n",
    "\n",
    "llm = OpenAI()\n",
    "qa = RetrievalQA.from_chain_type(llm=OpenAI(), chain_type=\"stuff\", retriever=retriever)\n",
    "result = qa.run(query)\n",
    "\n",
    "Markdown(result)"
   ],
   "metadata": {
    "collapsed": false,
    "ExecuteTime": {
     "start_time": "2023-08-10T14:45:48.494767Z",
     "end_time": "2023-08-10T14:45:59.301934Z"
    }
   }
  },
  {
   "cell_type": "markdown",
   "source": [
    "### Notes\n",
    "* need to look at prompt template more thoroughly\n",
    "* understand the `retrieval qa chain` more thoroughly"
   ],
   "metadata": {
    "collapsed": false
   }
  },
  {
   "cell_type": "markdown",
   "source": [
    "## Gradio app"
   ],
   "metadata": {
    "collapsed": false
   }
  },
  {
   "cell_type": "code",
   "execution_count": 21,
   "outputs": [],
   "source": [
    "def retrieval_response(message, history):\n",
    "    qa = RetrievalQA.from_chain_type(llm=OpenAI(), chain_type=\"stuff\", retriever=retriever)\n",
    "    return qa.run(message)"
   ],
   "metadata": {
    "collapsed": false,
    "ExecuteTime": {
     "start_time": "2023-08-10T14:47:58.353739Z",
     "end_time": "2023-08-10T14:47:58.366528Z"
    }
   }
  },
  {
   "cell_type": "code",
   "execution_count": 2,
   "outputs": [],
   "source": [
    "import random\n",
    "\n",
    "def random_response(message, history):\n",
    "    return random.choice([\"Yes\", \"No\"])"
   ],
   "metadata": {
    "collapsed": false,
    "ExecuteTime": {
     "start_time": "2023-08-10T14:34:27.444462Z",
     "end_time": "2023-08-10T14:34:27.448655Z"
    }
   }
  },
  {
   "cell_type": "code",
   "execution_count": 26,
   "outputs": [
    {
     "name": "stdout",
     "output_type": "stream",
     "text": [
      "Caching examples at: '/Users/drh/Documents/Repos/LLM_Project/Notebooks/gradio_cached_examples/86'\n",
      "Caching example 1/2\n",
      "Caching example 2/2\n",
      "Caching complete\n",
      "\n",
      "Running on local URL:  http://127.0.0.1:7864\n",
      "\n",
      "To create a public link, set `share=True` in `launch()`.\n"
     ]
    },
    {
     "data": {
      "text/plain": "<IPython.core.display.HTML object>",
      "text/html": "<div><iframe src=\"http://127.0.0.1:7864/\" width=\"100%\" height=\"500\" allow=\"autoplay; camera; microphone; clipboard-read; clipboard-write;\" frameborder=\"0\" allowfullscreen></iframe></div>"
     },
     "metadata": {},
     "output_type": "display_data"
    },
    {
     "data": {
      "text/plain": ""
     },
     "execution_count": 26,
     "metadata": {},
     "output_type": "execute_result"
    }
   ],
   "source": [
    "import gradio as gr\n",
    "\n",
    "gr.ChatInterface(retrieval_response,\n",
    "                 title=\"Ask about P3M\",\n",
    "                chatbot=gr.Chatbot(height=300),\n",
    "                textbox=gr.Textbox(placeholder=\"Ask a question about P3M\", container=False, scale=7),\n",
    "                #description=\"Ask Yes Man any question\",\n",
    "                theme=\"soft\",\n",
    "                examples=[\"What are the key principles of P3M?\", \"What are the limitations of P3M?\"],\n",
    "                cache_examples=True,\n",
    "                retry_btn=None,\n",
    "                undo_btn=\"Delete Previous\",\n",
    "                clear_btn=\"Clear\",\n",
    "            ).launch()\n",
    "\n",
    "\n"
   ],
   "metadata": {
    "collapsed": false,
    "ExecuteTime": {
     "start_time": "2023-08-10T15:05:37.515693Z",
     "end_time": "2023-08-10T15:05:44.227389Z"
    }
   }
  },
  {
   "cell_type": "code",
   "execution_count": null,
   "outputs": [],
   "source": [],
   "metadata": {
    "collapsed": false
   }
  }
 ],
 "metadata": {
  "kernelspec": {
   "display_name": "Python 3",
   "language": "python",
   "name": "python3"
  },
  "language_info": {
   "codemirror_mode": {
    "name": "ipython",
    "version": 2
   },
   "file_extension": ".py",
   "mimetype": "text/x-python",
   "name": "python",
   "nbconvert_exporter": "python",
   "pygments_lexer": "ipython2",
   "version": "2.7.6"
  }
 },
 "nbformat": 4,
 "nbformat_minor": 0
}
